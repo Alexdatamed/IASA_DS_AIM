{
 "cells": [
  {
   "cell_type": "markdown",
   "id": "722a4e44",
   "metadata": {
    "id": "_THPdvFNQxrr",
    "papermill": {
     "duration": 0.003614,
     "end_time": "2022-09-11T11:49:39.614546",
     "exception": false,
     "start_time": "2022-09-11T11:49:39.610932",
     "status": "completed"
    },
    "tags": []
   },
   "source": [
    "# <center>Forecasting income per person</center>\n",
    "## <center>Testing model and justification of the chosen metric</center>\n",
    "## Authors:\n",
    "### >>> Alex Samoylenko\n",
    "### >>> Vladyslav Honcharuk\n",
    "### >>> Ostap Kalapun'\n",
    "### >>> Maksym Chernykh"
   ]
  },
  {
   "cell_type": "markdown",
   "id": "199ecd75",
   "metadata": {
    "id": "yRJTaAmIQxrt",
    "papermill": {
     "duration": 0.00208,
     "end_time": "2022-09-11T11:49:39.619515",
     "exception": false,
     "start_time": "2022-09-11T11:49:39.617435",
     "status": "completed"
    },
    "tags": []
   },
   "source": [
    "# Index\n",
    "\n",
    "- [1. Justification of the Chosen Metric](#1.-Justification-of-the-Chosen-Metric)\n",
    "- [2. Verification of Model Against Test Data](#2.-Verification-of-Model-Against-Test-Data)\n",
    "- [Conclusion](#Conclusion)\n",
    "- [References](#References)"
   ]
  },
  {
   "cell_type": "markdown",
   "id": "b46e3c95",
   "metadata": {
    "id": "YFSJ5kdhQxr0",
    "papermill": {
     "duration": 0.001983,
     "end_time": "2022-09-11T11:49:39.623894",
     "exception": false,
     "start_time": "2022-09-11T11:49:39.621911",
     "status": "completed"
    },
    "tags": []
   },
   "source": [
    "[Back to top](#Index)\n",
    "\n",
    "\n",
    "## 1. Justification of the Chosen Metric\n",
    "\n",
    "Describe the main metric (side metrics briefly) and justify why that one is the best"
   ]
  },
  {
   "cell_type": "markdown",
   "id": "1912fc09",
   "metadata": {
    "id": "GxZlBn-VQxr2",
    "papermill": {
     "duration": 0.002129,
     "end_time": "2022-09-11T11:49:39.628656",
     "exception": false,
     "start_time": "2022-09-11T11:49:39.626527",
     "status": "completed"
    },
    "tags": []
   },
   "source": [
    "[Back to top](#Index)\n",
    "\n",
    "## 2. Verification of Model Against Test Data\n",
    "\n",
    "Verify data "
   ]
  },
  {
   "cell_type": "markdown",
   "id": "4ce955bb",
   "metadata": {
    "id": "VYIBGtL6QxsG",
    "papermill": {
     "duration": 0.001984,
     "end_time": "2022-09-11T11:49:39.633028",
     "exception": false,
     "start_time": "2022-09-11T11:49:39.631044",
     "status": "completed"
    },
    "tags": []
   },
   "source": [
    "[Back to top](#Index)\n",
    "\n",
    "## Conclusion\n",
    "\n",
    "Describe your conclusions. Explain which approach worked better in terms of results. What did you learn about data analysis techniques by creating your prediction model?\n",
    "\n"
   ]
  },
  {
   "cell_type": "markdown",
   "id": "590d545f",
   "metadata": {
    "id": "8O4V5TCBQxsH",
    "papermill": {
     "duration": 0.001982,
     "end_time": "2022-09-11T11:49:39.637314",
     "exception": false,
     "start_time": "2022-09-11T11:49:39.635332",
     "status": "completed"
    },
    "tags": []
   },
   "source": [
    "\n",
    "[Back to top](#Index\n",
    ")\n",
    "## References\n",
    "\n",
    "Add all references you used to complete this project.\n",
    "\n",
    "Use this format for articles:\n",
    "- Author Last Name, Author First Name. “Article Title.” Journal Title Volume #, no. Issue # (year): page range.\n",
    "\n",
    "- Ex: Doe, John. “Data Engineering.” Data Engineering Journal 18, no. 4 (2021): 12-18.\n",
    "\n",
    "Use this format for websites:\n",
    "- Author Last Name, Author First Name. “Title of Web Page.” Name of Website. Publishing organization, publication or revision date if available. Access date if no other date is available. URL .\n",
    "\n",
    "- Doe, John. “Data Engineering.” Data Engineer Resource. Cengage, 2021. www.dataengineerresource.com .\n"
   ]
  },
  {
   "cell_type": "code",
   "execution_count": null,
   "id": "aabdaad5",
   "metadata": {
    "id": "xBPrSz5PQxsI",
    "papermill": {
     "duration": 0.00205,
     "end_time": "2022-09-11T11:49:39.641595",
     "exception": false,
     "start_time": "2022-09-11T11:49:39.639545",
     "status": "completed"
    },
    "scrolled": true,
    "tags": []
   },
   "outputs": [],
   "source": []
  }
 ],
 "metadata": {
  "kernelspec": {
   "display_name": "Python 3",
   "language": "python",
   "name": "python3"
  },
  "language_info": {
   "codemirror_mode": {
    "name": "ipython",
    "version": 3
   },
   "file_extension": ".py",
   "mimetype": "text/x-python",
   "name": "python",
   "nbconvert_exporter": "python",
   "pygments_lexer": "ipython3",
   "version": "3.7.12"
  },
  "papermill": {
   "default_parameters": {},
   "duration": 10.925873,
   "end_time": "2022-09-11T11:49:40.370576",
   "environment_variables": {},
   "exception": null,
   "input_path": "__notebook__.ipynb",
   "output_path": "__notebook__.ipynb",
   "parameters": {},
   "start_time": "2022-09-11T11:49:29.444703",
   "version": "2.3.4"
  }
 },
 "nbformat": 4,
 "nbformat_minor": 5
}
